{
  "cells": [
    {
      "cell_type": "markdown",
      "metadata": {
        "id": "view-in-github",
        "colab_type": "text"
      },
      "source": [
        "<a href=\"https://colab.research.google.com/github/vineeta07/mlproject-stockpriceprediction/blob/main/stockpriceprediction.ipynb\" target=\"_parent\"><img src=\"https://colab.research.google.com/assets/colab-badge.svg\" alt=\"Open In Colab\"/></a>"
      ]
    },
    {
      "cell_type": "markdown",
      "source": [
        "#<u>DEPARTMENT OF COMPUTER SCIENCE AND ENGINEERING </U>"
      ],
      "metadata": {
        "id": "xoduSOc8tt1M"
      }
    },
    {
      "cell_type": "markdown",
      "source": [
        "##<u>**<center>MACHINE LEARNING PROJECT</center>**</u>\n",
        "\n",
        "\n"
      ],
      "metadata": {
        "id": "VhqsZG-jrILb"
      }
    },
    {
      "cell_type": "markdown",
      "source": [
        "\n",
        "![dtulogo.jpeg alt=\"Centered Image\"](data:image/jpeg;base64,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)"
      ],
      "metadata": {
        "id": "3-v8q-qw5YuV"
      }
    },
    {
      "cell_type": "markdown",
      "source": [
        "<u>**<center>PROJECT FILE</center>**</u>"
      ],
      "metadata": {
        "id": "3-2DmjGot3lx"
      }
    },
    {
      "cell_type": "markdown",
      "source": [
        "<u>SUBMITTED TO :</u>\n",
        "\n",
        "\n",
        "  Mr.Gapesh Kumar\n",
        "    \n",
        "\n",
        "<u>SUBMITTED BY :</u>\n",
        "   <br>  YASHASHVI YADAV         (24/A07/070)</br>\n",
        "  VIDHI                        (24/A07/051)</br>\n",
        "   VINEETA KUMARI MEENA    (24/A07/056)</br>\n"
      ],
      "metadata": {
        "id": "uq015-l1xLhV"
      }
    },
    {
      "cell_type": "markdown",
      "source": [
        "##**Topic: Stock price prediction using LSTM**\n",
        "\n",
        "**1. Objective / Task**\n",
        "\n",
        "The main objective of this project is to build a Machine Learning model that can predict the future stock prices of a company based on its past data.\n",
        "  \n",
        "This project is based on the concept of supervised machine learning where the model is trained using historical stock price data.\n",
        "  \n",
        "Stock price prediction is a very interesting and practical use case of Machine Learning as stock market analysis is very important in the real world for investors and businesses.\n",
        "  \n",
        "In this project, I have used Linear Regression model to predict the closing price of stock. The main task was to collect the data, preprocess it properly, train the model and then use it for predicting future stock prices."
      ],
      "metadata": {
        "id": "WrpwiwvuivxR"
      }
    },
    {
      "cell_type": "markdown",
      "source": [
        "**2. Theory**\n",
        "\n",
        "<u>*Dataset Used:*</u>\n",
        "\n",
        "In this project, I have used the stock price dataset of companies .\n",
        "  \n",
        "The dataset was downloaded in CSV (Comma Separated Values) format and contains the following columns:\n",
        " - Date\n",
        " - Open Price\n",
        " - High Price\n",
        " - Low Price\n",
        " - Close Price\n",
        " - Adj Close Price\n",
        " - Volume\n",
        "  \n",
        "Out of these, I have mainly used two columns:\n",
        " - Date — It represents the date on which the stock data was recorded.\n",
        " - Close — It is the closing price of the stock on that particular day. This is the value which I have predicted using Machine Learning.\n",
        "\n",
        "<u>*Data Preprocessing:*</u>\n",
        "\n",
        "Data Preprocessing is a very important step in any Machine Learning project. In my project, I have done the following steps for preprocessing the dataset:\n",
        "  \n",
        "1. Loading the Data:\n",
        " I have used the Pandas library to load the dataset from the CSV file into a Data Frame.\n",
        "  \n",
        "2. Handling Missing Values:\n",
        " I checked whether there are any null or missing values. In my dataset there were no missing values.\n",
        "  \n",
        "3. Converting Date Column:\n",
        " I converted the Date column into numerical format using toordinal() function of Python.\n",
        "  \n",
        "4. Splitting Data:\n",
        " I separated the independent and dependent variables as:\n",
        " X → Date column (Input feature)\n",
        " y → Close Price column (Target variable)\n",
        "\n",
        "<u>*Model Used:*</u>\n",
        "\n",
        "I have used Linear Regression model from sklearn library.\n",
        "  \n",
        "Linear Regression is one of the simplest and most basic machine learning algorithms. It is used to predict a continuous dependent variable based on the value of independent variable(s).\n",
        "\n",
        "<u>*Evaluation Metric Used:*</u>\n",
        "\n",
        "To check how good my model is performing, I used Mean Squared Error (MSE) as the evaluation metric.\n",
        "  \n",
        "MSE measures the average of the squares of the errors — that is, the average squared difference between the actual value and the predicted value.\n",
        "\n",
        "<u>*Visualization:*</u>\n",
        "\n",
        "To visualize how well my model has predicted the stock prices, I plotted a graph between the Actual Stock Prices and Predicted Stock Prices using the Matplotlib library."
      ],
      "metadata": {
        "id": "X6aBxEIOjK0J"
      }
    },
    {
      "cell_type": "markdown",
      "source": [
        "**Implementation starts:**"
      ],
      "metadata": {
        "id": "IHdKytFnp_Gm"
      }
    },
    {
      "cell_type": "markdown",
      "source": [
        "**1. Imports:**"
      ],
      "metadata": {
        "id": "SFXQN4xwlJqD"
      }
    },
    {
      "cell_type": "code",
      "execution_count": 1,
      "metadata": {
        "colab": {
          "base_uri": "https://localhost:8080/"
        },
        "id": "imuqGOjLljzU",
        "outputId": "741fd926-5936-4e49-e439-92a179c5bee0"
      },
      "outputs": [
        {
          "output_type": "stream",
          "name": "stdout",
          "text": [
            "Pandas version: 2.2.2\n",
            "NumPy version: 2.0.2\n",
            "Matplotlib version: 3.10.0\n",
            "Keras version: 3.8.0\n",
            "Scikit-learn version: 1.6.1\n"
          ]
        }
      ],
      "source": [
        "import pandas\n",
        "import numpy\n",
        "import matplotlib\n",
        "import keras\n",
        "import sklearn\n",
        "print(f\"Pandas version: {pandas.__version__}\")\n",
        "print(f\"NumPy version: {numpy.__version__}\")\n",
        "print(f\"Matplotlib version: {matplotlib.__version__}\")\n",
        "print(f\"Keras version: {keras.__version__}\")\n",
        "print(f\"Scikit-learn version: {sklearn.__version__}\")"
      ]
    },
    {
      "cell_type": "code",
      "execution_count": 2,
      "metadata": {
        "id": "g6VbDxVwUN5-"
      },
      "outputs": [],
      "source": [
        "import pandas as pd\n",
        "import numpy as np\n",
        "from tensorflow import keras\n",
        "\n",
        "\n",
        "import matplotlib.pyplot as plt\n",
        "%matplotlib inline\n",
        "\n",
        "from matplotlib.pylab import rcParams\n",
        "rcParams['figure.figsize']=20,10\n",
        "from keras.models import Sequential\n",
        "from keras.layers import LSTM, Dropout ,Dense\n",
        "\n",
        "\n",
        "from sklearn.preprocessing import MinMaxScaler"
      ]
    },
    {
      "cell_type": "code",
      "execution_count": 3,
      "metadata": {
        "colab": {
          "base_uri": "https://localhost:8080/"
        },
        "collapsed": true,
        "id": "kdQZ9bDNUrRx",
        "outputId": "bc3ccd88-7619-4f3a-da45-7c930aca81e3"
      },
      "outputs": [
        {
          "output_type": "stream",
          "name": "stdout",
          "text": [
            "Archive:  NSE-Tata-Global-Beverages-Limited.zip\n",
            "  inflating: NSE-Tata-Global-Beverages-Limited.csv  \n"
          ]
        }
      ],
      "source": [
        "!unzip NSE-Tata-Global-Beverages-Limited.zip"
      ]
    },
    {
      "cell_type": "code",
      "execution_count": 4,
      "metadata": {
        "colab": {
          "base_uri": "https://localhost:8080/"
        },
        "collapsed": true,
        "id": "osVVzDkDflNH",
        "outputId": "33df6769-9693-45ca-9162-4ece564f4b05"
      },
      "outputs": [
        {
          "output_type": "stream",
          "name": "stdout",
          "text": [
            "Archive:  stock_data.zip\n",
            "  inflating: stock_data.csv          \n"
          ]
        }
      ],
      "source": [
        "!unzip  stock_data.zip"
      ]
    },
    {
      "cell_type": "code",
      "execution_count": 5,
      "metadata": {
        "colab": {
          "base_uri": "https://localhost:8080/"
        },
        "collapsed": true,
        "id": "V_Qh3rGBe3lX",
        "outputId": "e0d6aaa5-5c49-4790-817a-d6d3643c3b66"
      },
      "outputs": [
        {
          "output_type": "stream",
          "name": "stdout",
          "text": [
            "Archive:  Stock-Price-Prediction-Project-Code.zip\n",
            "  inflating: stock_pred.py           \n",
            "  inflating: stock_app.py            \n"
          ]
        }
      ],
      "source": [
        "!unzip Stock-Price-Prediction-Project-Code.zip"
      ]
    },
    {
      "cell_type": "markdown",
      "source": [
        "**2. Read the dataset:**"
      ],
      "metadata": {
        "id": "f15AiddElZvV"
      }
    },
    {
      "cell_type": "code",
      "execution_count": 6,
      "metadata": {
        "colab": {
          "base_uri": "https://localhost:8080/",
          "height": 206
        },
        "id": "34qt3sZIfKER",
        "outputId": "72b58b92-5001-406c-9309-4b9a2116ba9e"
      },
      "outputs": [
        {
          "output_type": "execute_result",
          "data": {
            "text/plain": [
              "         Date    Open    High     Low    Last   Close  Total Trade Quantity  \\\n",
              "0  2018-10-08  208.00  222.25  206.85  216.00  215.15             4642146.0   \n",
              "1  2018-10-05  217.00  218.60  205.90  210.25  209.20             3519515.0   \n",
              "2  2018-10-04  223.50  227.80  216.15  217.25  218.20             1728786.0   \n",
              "3  2018-10-03  230.00  237.50  225.75  226.45  227.60             1708590.0   \n",
              "4  2018-10-01  234.55  234.60  221.05  230.30  230.90             1534749.0   \n",
              "\n",
              "   Turnover (Lacs)  \n",
              "0         10062.83  \n",
              "1          7407.06  \n",
              "2          3815.79  \n",
              "3          3960.27  \n",
              "4          3486.05  "
            ],
            "text/html": [
              "\n",
              "  <div id=\"df-9bef47b0-adf1-4ab2-83d9-373a19417ea0\" class=\"colab-df-container\">\n",
              "    <div>\n",
              "<style scoped>\n",
              "    .dataframe tbody tr th:only-of-type {\n",
              "        vertical-align: middle;\n",
              "    }\n",
              "\n",
              "    .dataframe tbody tr th {\n",
              "        vertical-align: top;\n",
              "    }\n",
              "\n",
              "    .dataframe thead th {\n",
              "        text-align: right;\n",
              "    }\n",
              "</style>\n",
              "<table border=\"1\" class=\"dataframe\">\n",
              "  <thead>\n",
              "    <tr style=\"text-align: right;\">\n",
              "      <th></th>\n",
              "      <th>Date</th>\n",
              "      <th>Open</th>\n",
              "      <th>High</th>\n",
              "      <th>Low</th>\n",
              "      <th>Last</th>\n",
              "      <th>Close</th>\n",
              "      <th>Total Trade Quantity</th>\n",
              "      <th>Turnover (Lacs)</th>\n",
              "    </tr>\n",
              "  </thead>\n",
              "  <tbody>\n",
              "    <tr>\n",
              "      <th>0</th>\n",
              "      <td>2018-10-08</td>\n",
              "      <td>208.00</td>\n",
              "      <td>222.25</td>\n",
              "      <td>206.85</td>\n",
              "      <td>216.00</td>\n",
              "      <td>215.15</td>\n",
              "      <td>4642146.0</td>\n",
              "      <td>10062.83</td>\n",
              "    </tr>\n",
              "    <tr>\n",
              "      <th>1</th>\n",
              "      <td>2018-10-05</td>\n",
              "      <td>217.00</td>\n",
              "      <td>218.60</td>\n",
              "      <td>205.90</td>\n",
              "      <td>210.25</td>\n",
              "      <td>209.20</td>\n",
              "      <td>3519515.0</td>\n",
              "      <td>7407.06</td>\n",
              "    </tr>\n",
              "    <tr>\n",
              "      <th>2</th>\n",
              "      <td>2018-10-04</td>\n",
              "      <td>223.50</td>\n",
              "      <td>227.80</td>\n",
              "      <td>216.15</td>\n",
              "      <td>217.25</td>\n",
              "      <td>218.20</td>\n",
              "      <td>1728786.0</td>\n",
              "      <td>3815.79</td>\n",
              "    </tr>\n",
              "    <tr>\n",
              "      <th>3</th>\n",
              "      <td>2018-10-03</td>\n",
              "      <td>230.00</td>\n",
              "      <td>237.50</td>\n",
              "      <td>225.75</td>\n",
              "      <td>226.45</td>\n",
              "      <td>227.60</td>\n",
              "      <td>1708590.0</td>\n",
              "      <td>3960.27</td>\n",
              "    </tr>\n",
              "    <tr>\n",
              "      <th>4</th>\n",
              "      <td>2018-10-01</td>\n",
              "      <td>234.55</td>\n",
              "      <td>234.60</td>\n",
              "      <td>221.05</td>\n",
              "      <td>230.30</td>\n",
              "      <td>230.90</td>\n",
              "      <td>1534749.0</td>\n",
              "      <td>3486.05</td>\n",
              "    </tr>\n",
              "  </tbody>\n",
              "</table>\n",
              "</div>\n",
              "    <div class=\"colab-df-buttons\">\n",
              "\n",
              "  <div class=\"colab-df-container\">\n",
              "    <button class=\"colab-df-convert\" onclick=\"convertToInteractive('df-9bef47b0-adf1-4ab2-83d9-373a19417ea0')\"\n",
              "            title=\"Convert this dataframe to an interactive table.\"\n",
              "            style=\"display:none;\">\n",
              "\n",
              "  <svg xmlns=\"http://www.w3.org/2000/svg\" height=\"24px\" viewBox=\"0 -960 960 960\">\n",
              "    <path d=\"M120-120v-720h720v720H120Zm60-500h600v-160H180v160Zm220 220h160v-160H400v160Zm0 220h160v-160H400v160ZM180-400h160v-160H180v160Zm440 0h160v-160H620v160ZM180-180h160v-160H180v160Zm440 0h160v-160H620v160Z\"/>\n",
              "  </svg>\n",
              "    </button>\n",
              "\n",
              "  <style>\n",
              "    .colab-df-container {\n",
              "      display:flex;\n",
              "      gap: 12px;\n",
              "    }\n",
              "\n",
              "    .colab-df-convert {\n",
              "      background-color: #E8F0FE;\n",
              "      border: none;\n",
              "      border-radius: 50%;\n",
              "      cursor: pointer;\n",
              "      display: none;\n",
              "      fill: #1967D2;\n",
              "      height: 32px;\n",
              "      padding: 0 0 0 0;\n",
              "      width: 32px;\n",
              "    }\n",
              "\n",
              "    .colab-df-convert:hover {\n",
              "      background-color: #E2EBFA;\n",
              "      box-shadow: 0px 1px 2px rgba(60, 64, 67, 0.3), 0px 1px 3px 1px rgba(60, 64, 67, 0.15);\n",
              "      fill: #174EA6;\n",
              "    }\n",
              "\n",
              "    .colab-df-buttons div {\n",
              "      margin-bottom: 4px;\n",
              "    }\n",
              "\n",
              "    [theme=dark] .colab-df-convert {\n",
              "      background-color: #3B4455;\n",
              "      fill: #D2E3FC;\n",
              "    }\n",
              "\n",
              "    [theme=dark] .colab-df-convert:hover {\n",
              "      background-color: #434B5C;\n",
              "      box-shadow: 0px 1px 3px 1px rgba(0, 0, 0, 0.15);\n",
              "      filter: drop-shadow(0px 1px 2px rgba(0, 0, 0, 0.3));\n",
              "      fill: #FFFFFF;\n",
              "    }\n",
              "  </style>\n",
              "\n",
              "    <script>\n",
              "      const buttonEl =\n",
              "        document.querySelector('#df-9bef47b0-adf1-4ab2-83d9-373a19417ea0 button.colab-df-convert');\n",
              "      buttonEl.style.display =\n",
              "        google.colab.kernel.accessAllowed ? 'block' : 'none';\n",
              "\n",
              "      async function convertToInteractive(key) {\n",
              "        const element = document.querySelector('#df-9bef47b0-adf1-4ab2-83d9-373a19417ea0');\n",
              "        const dataTable =\n",
              "          await google.colab.kernel.invokeFunction('convertToInteractive',\n",
              "                                                    [key], {});\n",
              "        if (!dataTable) return;\n",
              "\n",
              "        const docLinkHtml = 'Like what you see? Visit the ' +\n",
              "          '<a target=\"_blank\" href=https://colab.research.google.com/notebooks/data_table.ipynb>data table notebook</a>'\n",
              "          + ' to learn more about interactive tables.';\n",
              "        element.innerHTML = '';\n",
              "        dataTable['output_type'] = 'display_data';\n",
              "        await google.colab.output.renderOutput(dataTable, element);\n",
              "        const docLink = document.createElement('div');\n",
              "        docLink.innerHTML = docLinkHtml;\n",
              "        element.appendChild(docLink);\n",
              "      }\n",
              "    </script>\n",
              "  </div>\n",
              "\n",
              "\n",
              "<div id=\"df-4b031a00-226a-47c8-82b4-315036dfabb1\">\n",
              "  <button class=\"colab-df-quickchart\" onclick=\"quickchart('df-4b031a00-226a-47c8-82b4-315036dfabb1')\"\n",
              "            title=\"Suggest charts\"\n",
              "            style=\"display:none;\">\n",
              "\n",
              "<svg xmlns=\"http://www.w3.org/2000/svg\" height=\"24px\"viewBox=\"0 0 24 24\"\n",
              "     width=\"24px\">\n",
              "    <g>\n",
              "        <path d=\"M19 3H5c-1.1 0-2 .9-2 2v14c0 1.1.9 2 2 2h14c1.1 0 2-.9 2-2V5c0-1.1-.9-2-2-2zM9 17H7v-7h2v7zm4 0h-2V7h2v10zm4 0h-2v-4h2v4z\"/>\n",
              "    </g>\n",
              "</svg>\n",
              "  </button>\n",
              "\n",
              "<style>\n",
              "  .colab-df-quickchart {\n",
              "      --bg-color: #E8F0FE;\n",
              "      --fill-color: #1967D2;\n",
              "      --hover-bg-color: #E2EBFA;\n",
              "      --hover-fill-color: #174EA6;\n",
              "      --disabled-fill-color: #AAA;\n",
              "      --disabled-bg-color: #DDD;\n",
              "  }\n",
              "\n",
              "  [theme=dark] .colab-df-quickchart {\n",
              "      --bg-color: #3B4455;\n",
              "      --fill-color: #D2E3FC;\n",
              "      --hover-bg-color: #434B5C;\n",
              "      --hover-fill-color: #FFFFFF;\n",
              "      --disabled-bg-color: #3B4455;\n",
              "      --disabled-fill-color: #666;\n",
              "  }\n",
              "\n",
              "  .colab-df-quickchart {\n",
              "    background-color: var(--bg-color);\n",
              "    border: none;\n",
              "    border-radius: 50%;\n",
              "    cursor: pointer;\n",
              "    display: none;\n",
              "    fill: var(--fill-color);\n",
              "    height: 32px;\n",
              "    padding: 0;\n",
              "    width: 32px;\n",
              "  }\n",
              "\n",
              "  .colab-df-quickchart:hover {\n",
              "    background-color: var(--hover-bg-color);\n",
              "    box-shadow: 0 1px 2px rgba(60, 64, 67, 0.3), 0 1px 3px 1px rgba(60, 64, 67, 0.15);\n",
              "    fill: var(--button-hover-fill-color);\n",
              "  }\n",
              "\n",
              "  .colab-df-quickchart-complete:disabled,\n",
              "  .colab-df-quickchart-complete:disabled:hover {\n",
              "    background-color: var(--disabled-bg-color);\n",
              "    fill: var(--disabled-fill-color);\n",
              "    box-shadow: none;\n",
              "  }\n",
              "\n",
              "  .colab-df-spinner {\n",
              "    border: 2px solid var(--fill-color);\n",
              "    border-color: transparent;\n",
              "    border-bottom-color: var(--fill-color);\n",
              "    animation:\n",
              "      spin 1s steps(1) infinite;\n",
              "  }\n",
              "\n",
              "  @keyframes spin {\n",
              "    0% {\n",
              "      border-color: transparent;\n",
              "      border-bottom-color: var(--fill-color);\n",
              "      border-left-color: var(--fill-color);\n",
              "    }\n",
              "    20% {\n",
              "      border-color: transparent;\n",
              "      border-left-color: var(--fill-color);\n",
              "      border-top-color: var(--fill-color);\n",
              "    }\n",
              "    30% {\n",
              "      border-color: transparent;\n",
              "      border-left-color: var(--fill-color);\n",
              "      border-top-color: var(--fill-color);\n",
              "      border-right-color: var(--fill-color);\n",
              "    }\n",
              "    40% {\n",
              "      border-color: transparent;\n",
              "      border-right-color: var(--fill-color);\n",
              "      border-top-color: var(--fill-color);\n",
              "    }\n",
              "    60% {\n",
              "      border-color: transparent;\n",
              "      border-right-color: var(--fill-color);\n",
              "    }\n",
              "    80% {\n",
              "      border-color: transparent;\n",
              "      border-right-color: var(--fill-color);\n",
              "      border-bottom-color: var(--fill-color);\n",
              "    }\n",
              "    90% {\n",
              "      border-color: transparent;\n",
              "      border-bottom-color: var(--fill-color);\n",
              "    }\n",
              "  }\n",
              "</style>\n",
              "\n",
              "  <script>\n",
              "    async function quickchart(key) {\n",
              "      const quickchartButtonEl =\n",
              "        document.querySelector('#' + key + ' button');\n",
              "      quickchartButtonEl.disabled = true;  // To prevent multiple clicks.\n",
              "      quickchartButtonEl.classList.add('colab-df-spinner');\n",
              "      try {\n",
              "        const charts = await google.colab.kernel.invokeFunction(\n",
              "            'suggestCharts', [key], {});\n",
              "      } catch (error) {\n",
              "        console.error('Error during call to suggestCharts:', error);\n",
              "      }\n",
              "      quickchartButtonEl.classList.remove('colab-df-spinner');\n",
              "      quickchartButtonEl.classList.add('colab-df-quickchart-complete');\n",
              "    }\n",
              "    (() => {\n",
              "      let quickchartButtonEl =\n",
              "        document.querySelector('#df-4b031a00-226a-47c8-82b4-315036dfabb1 button');\n",
              "      quickchartButtonEl.style.display =\n",
              "        google.colab.kernel.accessAllowed ? 'block' : 'none';\n",
              "    })();\n",
              "  </script>\n",
              "</div>\n",
              "\n",
              "    </div>\n",
              "  </div>\n"
            ],
            "application/vnd.google.colaboratory.intrinsic+json": {
              "type": "dataframe",
              "variable_name": "df",
              "summary": "{\n  \"name\": \"df\",\n  \"rows\": 1235,\n  \"fields\": [\n    {\n      \"column\": \"Date\",\n      \"properties\": {\n        \"dtype\": \"object\",\n        \"num_unique_values\": 1235,\n        \"samples\": [\n          \"2015-09-18\",\n          \"2016-06-02\",\n          \"2016-07-21\"\n        ],\n        \"semantic_type\": \"\",\n        \"description\": \"\"\n      }\n    },\n    {\n      \"column\": \"Open\",\n      \"properties\": {\n        \"dtype\": \"number\",\n        \"std\": 51.499145292353596,\n        \"min\": 103.0,\n        \"max\": 327.7,\n        \"num_unique_values\": 799,\n        \"samples\": [\n          165.4,\n          163.5,\n          260.1\n        ],\n        \"semantic_type\": \"\",\n        \"description\": \"\"\n      }\n    },\n    {\n      \"column\": \"High\",\n      \"properties\": {\n        \"dtype\": \"number\",\n        \"std\": 52.436760564822634,\n        \"min\": 104.6,\n        \"max\": 328.75,\n        \"num_unique_values\": 863,\n        \"samples\": [\n          160.6,\n          137.25,\n          279.05\n        ],\n        \"semantic_type\": \"\",\n        \"description\": \"\"\n      }\n    },\n    {\n      \"column\": \"Low\",\n      \"properties\": {\n        \"dtype\": \"number\",\n        \"std\": 50.54291900961222,\n        \"min\": 100.0,\n        \"max\": 321.65,\n        \"num_unique_values\": 854,\n        \"samples\": [\n          257.0,\n          139.0,\n          267.75\n        ],\n        \"semantic_type\": \"\",\n        \"description\": \"\"\n      }\n    },\n    {\n      \"column\": \"Last\",\n      \"properties\": {\n        \"dtype\": \"number\",\n        \"std\": 51.58738367527159,\n        \"min\": 102.6,\n        \"max\": 325.95,\n        \"num_unique_values\": 865,\n        \"samples\": [\n          277.2,\n          159.3,\n          116.3\n        ],\n        \"semantic_type\": \"\",\n        \"description\": \"\"\n      }\n    },\n    {\n      \"column\": \"Close\",\n      \"properties\": {\n        \"dtype\": \"number\",\n        \"std\": 51.54492778080439,\n        \"min\": 102.65,\n        \"max\": 325.75,\n        \"num_unique_values\": 893,\n        \"samples\": [\n          156.7,\n          126.85,\n          117.95\n        ],\n        \"semantic_type\": \"\",\n        \"description\": \"\"\n      }\n    },\n    {\n      \"column\": \"Total Trade Quantity\",\n      \"properties\": {\n        \"dtype\": \"number\",\n        \"std\": 2277027.6771727577,\n        \"min\": 100180.0,\n        \"max\": 29191015.0,\n        \"num_unique_values\": 1234,\n        \"samples\": [\n          695624.0,\n          549738.0,\n          1884426.0\n        ],\n        \"semantic_type\": \"\",\n        \"description\": \"\"\n      }\n    },\n    {\n      \"column\": \"Turnover (Lacs)\",\n      \"properties\": {\n        \"dtype\": \"number\",\n        \"std\": 5348.919831941101,\n        \"min\": 128.04,\n        \"max\": 55755.08,\n        \"num_unique_values\": 1231,\n        \"samples\": [\n          5074.0,\n          10218.17,\n          8224.13\n        ],\n        \"semantic_type\": \"\",\n        \"description\": \"\"\n      }\n    }\n  ]\n}"
            }
          },
          "metadata": {},
          "execution_count": 6
        }
      ],
      "source": [
        "df=pd.read_csv(\"NSE-Tata-Global-Beverages-Limited.csv\")\n",
        "df.head()"
      ]
    },
    {
      "cell_type": "markdown",
      "source": [
        "**3. Analyze the closing prices from dataframe:**"
      ],
      "metadata": {
        "id": "htjg_4delnNG"
      }
    },
    {
      "cell_type": "code",
      "execution_count": 7,
      "metadata": {
        "id": "gfKdsPGZfWb0",
        "colab": {
          "base_uri": "https://localhost:8080/",
          "height": 603
        },
        "outputId": "78009b5d-a671-4ab2-d008-7cdb04ee340a"
      },
      "outputs": [
        {
          "output_type": "execute_result",
          "data": {
            "text/plain": [
              "[<matplotlib.lines.Line2D at 0x7d9aa5d29250>]"
            ]
          },
          "metadata": {},
          "execution_count": 7
        },
        {
          "output_type": "display_data",
          "data": {
            "text/plain": [
              "<Figure size 1600x800 with 1 Axes>"
            ],
            "image/png": "[encoded data removed]"
          },
          "metadata": {}
        }
      ],
      "source": [
        "df[\"Date\"]=pd.to_datetime(df.Date,format=\"%Y-%m-%d\")\n",
        "df.index=df['Date']\n",
        "\n",
        "plt.figure(figsize=(16,8))\n",
        "plt.plot(df[\"Close\"],label='Close Price history')"
      ]
    },
    {
      "cell_type": "markdown",
      "source": [
        "**4. Sort the dataset on date time and filter “Date” and “Close” columns:**"
      ],
      "metadata": {
        "id": "ybk4XZTtlq_5"
      }
    },
    {
      "cell_type": "code",
      "execution_count": 8,
      "metadata": {
        "id": "ZRp5oyEBfnfa"
      },
      "outputs": [],
      "source": [
        "data=df.sort_index(ascending=True,axis=0)\n",
        "new_dataset=pd.DataFrame(index=range(0,len(df)),columns=['Date','Close'])\n",
        "\n",
        "for i in range(0,len(data)):\n",
        "    new_dataset.loc[i,\"Date\"]=data.iloc[i]['Date']\n",
        "    new_dataset.loc[i,\"Close\"]=data.iloc[i][\"Close\"]"
      ]
    },
    {
      "cell_type": "markdown",
      "source": [
        "**5. Normalize the new filtered dataset:**\n",
        "\n"
      ],
      "metadata": {
        "id": "P6T0MLAMl1S0"
      }
    },
    {
      "cell_type": "code",
      "execution_count": 9,
      "metadata": {
        "id": "IvG5pgXpgOCp",
        "colab": {
          "base_uri": "https://localhost:8080/"
        },
        "outputId": "aeec164a-1aa0-4d7a-eb60-613d01729540"
      },
      "outputs": [
        {
          "output_type": "stream",
          "name": "stderr",
          "text": [
            "/usr/local/lib/python3.11/dist-packages/pandas/core/indexes/base.py:7631: FutureWarning: Dtype inference on a pandas object (Series, Index, ExtensionArray) is deprecated. The Index constructor will keep the original dtype in the future. Call `infer_objects` on the result to get the old behavior.\n",
            "  return Index(index_like, name=name, copy=copy)\n"
          ]
        }
      ],
      "source": [
        "scaler=MinMaxScaler(feature_range=(0,1))\n",
        "final_dataset=new_dataset[['Close']].values\n",
        "\n",
        "train_data=final_dataset[0:987,:]\n",
        "valid_data=final_dataset[987:,:]\n",
        "\n",
        "# Reset index to default and include 'Date' column\n",
        "new_dataset_indexed = new_dataset.reset_index()\n",
        "\n",
        "# Set index using the 'Date' column\n",
        "new_dataset_indexed.index = new_dataset_indexed.Date\n",
        "\n",
        "#Select 'Close' for scaling\n",
        "new_dataset_indexed = new_dataset_indexed[['Close']]\n",
        "\n",
        "\n",
        "scaler=MinMaxScaler(feature_range=(0,1))\n",
        "scaled_data=scaler.fit_transform(final_dataset)\n",
        "\n",
        "x_train_data,y_train_data=[],[]\n",
        "\n",
        "for i in range(60,len(train_data)):\n",
        "    x_train_data.append(scaled_data[i-60:i,0])\n",
        "    y_train_data.append(scaled_data[i,0])\n",
        "\n",
        "x_train_data,y_train_data=np.array(x_train_data),np.array(y_train_data)\n",
        "\n",
        "x_train_data=np.reshape(x_train_data,(x_train_data.shape[0],x_train_data.shape[1],1))"
      ]
    },
    {
      "cell_type": "markdown",
      "source": [
        "**6. Build and train the LSTM model:**"
      ],
      "metadata": {
        "id": "rMhbgmLZl9eD"
      }
    },
    {
      "cell_type": "code",
      "execution_count": 10,
      "metadata": {
        "id": "ADUK_uDHiBGy",
        "colab": {
          "base_uri": "https://localhost:8080/"
        },
        "outputId": "e3bcf47a-63ab-47fe-9f6a-33c742e33a20"
      },
      "outputs": [
        {
          "output_type": "stream",
          "name": "stderr",
          "text": [
            "/usr/local/lib/python3.11/dist-packages/keras/src/layers/rnn/rnn.py:200: UserWarning: Do not pass an `input_shape`/`input_dim` argument to a layer. When using Sequential models, prefer using an `Input(shape)` object as the first layer in the model instead.\n",
            "  super().__init__(**kwargs)\n"
          ]
        },
        {
          "output_type": "stream",
          "name": "stdout",
          "text": [
            "927/927 - 9s - 10ms/step - loss: 0.0010\n"
          ]
        },
        {
          "output_type": "execute_result",
          "data": {
            "text/plain": [
              "<keras.src.callbacks.history.History at 0x7d9aa2f2c3d0>"
            ]
          },
          "metadata": {},
          "execution_count": 10
        }
      ],
      "source": [
        "lstm_model=Sequential()\n",
        "lstm_model.add(LSTM(units=50,return_sequences=True,input_shape=(x_train_data.shape[1],1)))\n",
        "lstm_model.add(LSTM(units=50))\n",
        "lstm_model.add(Dense(1))\n",
        "\n",
        "inputs_data=new_dataset[len(new_dataset)-len(valid_data)-60:]['Close'].values\n",
        "inputs_data=inputs_data.reshape(-1,1)\n",
        "inputs_data=scaler.transform(inputs_data)\n",
        "\n",
        "lstm_model.compile(loss='mean_squared_error',optimizer='adam')\n",
        "lstm_model.fit(x_train_data,y_train_data,epochs=1,batch_size=1,verbose=2)"
      ]
    },
    {
      "cell_type": "markdown",
      "source": [
        "**7. Take a sample of a dataset to make stock price predictions using the LSTM model:**"
      ],
      "metadata": {
        "id": "SCa468AhmG5G"
      }
    },
    {
      "cell_type": "code",
      "execution_count": 11,
      "metadata": {
        "id": "y4oPP2GQi27x",
        "colab": {
          "base_uri": "https://localhost:8080/"
        },
        "outputId": "7123628d-5158-4760-8185-c102b9dfe379"
      },
      "outputs": [
        {
          "output_type": "stream",
          "name": "stdout",
          "text": [
            "\u001b[1m8/8\u001b[0m \u001b[32m━━━━━━━━━━━━━━━━━━━━\u001b[0m\u001b[37m\u001b[0m \u001b[1m0s\u001b[0m 27ms/step\n"
          ]
        }
      ],
      "source": [
        "X_test=[]\n",
        "for i in range(60,inputs_data.shape[0]):\n",
        "    X_test.append(inputs_data[i-60:i,0])\n",
        "X_test=np.array(X_test)\n",
        "\n",
        "X_test=np.reshape(X_test,(X_test.shape[0],X_test.shape[1],1))\n",
        "predicted_closing_price=lstm_model.predict(X_test)\n",
        "predicted_closing_price=scaler.inverse_transform(predicted_closing_price)"
      ]
    },
    {
      "cell_type": "markdown",
      "source": [
        "**8. Save the LSTM model:**"
      ],
      "metadata": {
        "id": "8DB40R0-mN1R"
      }
    },
    {
      "cell_type": "code",
      "execution_count": 12,
      "metadata": {
        "id": "Pz9PtCTS1eDr"
      },
      "outputs": [],
      "source": [
        "lstm_model.save(\"saved_model.keras\")"
      ]
    },
    {
      "cell_type": "markdown",
      "source": [
        "**9. Visualize the predicted stock costs with actual stock costs:**"
      ],
      "metadata": {
        "id": "Rdza6PvPmSNJ"
      }
    },
    {
      "cell_type": "code",
      "execution_count": 13,
      "metadata": {
        "id": "53QmRLJn1eSS",
        "colab": {
          "base_uri": "https://localhost:8080/",
          "height": 623
        },
        "outputId": "ad551271-cb1a-426e-f4d9-a65284393964"
      },
      "outputs": [
        {
          "output_type": "execute_result",
          "data": {
            "text/plain": [
              "[<matplotlib.lines.Line2D at 0x7d9a9e233910>,\n",
              " <matplotlib.lines.Line2D at 0x7d9a9e233cd0>]"
            ]
          },
          "metadata": {},
          "execution_count": 13
        },
        {
          "output_type": "display_data",
          "data": {
            "text/plain": [
              "<Figure size 2000x1000 with 1 Axes>"
            ],
            "image/png": "[encoded data removed]"
          },
          "metadata": {}
        }
      ],
      "source": [
        "train_data=new_dataset[:987]\n",
        "valid_data=new_dataset[987:].copy()\n",
        "\n",
        "\n",
        "valid_data.loc[:,'Predictions']=predicted_closing_price\n",
        "plt.plot(train_data[\"Close\"])\n",
        "plt.plot(valid_data[['Close',\"Predictions\"]])"
      ]
    },
    {
      "cell_type": "markdown",
      "source": [
        "You can observe that LSTM has predicted stocks almost similar to actual stocks."
      ],
      "metadata": {
        "id": "R4aan9PgmcG_"
      }
    },
    {
      "cell_type": "markdown",
      "source": [
        "In this section, we will build a dashboard to analyze stocks. Dash is a python framework that provides an abstraction over flask and react.js to build analytical web applications.\n",
        "Before moving ahead, you need to install dash. Run the below command in the terminal."
      ],
      "metadata": {
        "id": "_Z4xugH19QOX"
      }
    },
    {
      "cell_type": "code",
      "execution_count": null,
      "metadata": {
        "collapsed": true,
        "id": "4clabOjZjqD8"
      },
      "outputs": [],
      "source": [
        "!pip3 install dash\n",
        "!pip3 install dash-html-components\n",
        "!pip3 install dash-core-components"
      ]
    },
    {
      "cell_type": "code",
      "execution_count": 15,
      "metadata": {
        "id": "-m90UwKikJOg",
        "colab": {
          "base_uri": "https://localhost:8080/",
          "height": 778
        },
        "outputId": "5a22bf74-65bf-4093-d5ec-33709f297919"
      },
      "outputs": [
        {
          "output_type": "stream",
          "name": "stderr",
          "text": [
            "/usr/local/lib/python3.11/dist-packages/pandas/core/indexes/base.py:7631: FutureWarning:\n",
            "\n",
            "Dtype inference on a pandas object (Series, Index, ExtensionArray) is deprecated. The Index constructor will keep the original dtype in the future. Call `infer_objects` on the result to get the old behavior.\n",
            "\n"
          ]
        },
        {
          "output_type": "stream",
          "name": "stdout",
          "text": [
            "\u001b[1m8/8\u001b[0m \u001b[32m━━━━━━━━━━━━━━━━━━━━\u001b[0m\u001b[37m\u001b[0m \u001b[1m1s\u001b[0m 38ms/step\n"
          ]
        },
        {
          "output_type": "display_data",
          "data": {
            "text/plain": [
              "<IPython.core.display.Javascript object>"
            ],
            "application/javascript": [
              "(async (port, path, width, height, cache, element) => {\n",
              "    if (!google.colab.kernel.accessAllowed && !cache) {\n",
              "      return;\n",
              "    }\n",
              "    element.appendChild(document.createTextNode(''));\n",
              "    const url = await google.colab.kernel.proxyPort(port, {cache});\n",
              "    const iframe = document.createElement('iframe');\n",
              "    iframe.src = new URL(path, url).toString();\n",
              "    iframe.height = height;\n",
              "    iframe.width = width;\n",
              "    iframe.style.border = 0;\n",
              "    iframe.allow = [\n",
              "        'accelerometer',\n",
              "        'autoplay',\n",
              "        'camera',\n",
              "        'clipboard-read',\n",
              "        'clipboard-write',\n",
              "        'gyroscope',\n",
              "        'magnetometer',\n",
              "        'microphone',\n",
              "        'serial',\n",
              "        'usb',\n",
              "        'xr-spatial-tracking',\n",
              "    ].join('; ');\n",
              "    element.appendChild(iframe);\n",
              "  })(8050, \"/\", \"100%\", 650, false, window.element)"
            ]
          },
          "metadata": {}
        }
      ],
      "source": [
        "import dash\n",
        "from dash import dcc\n",
        "from dash import html\n",
        "import pandas as pd\n",
        "import plotly.graph_objs as go\n",
        "from dash.dependencies import Input, Output\n",
        "from keras.models import load_model\n",
        "from sklearn.preprocessing import MinMaxScaler\n",
        "import numpy as np\n",
        "\n",
        "\n",
        "app = dash.Dash()\n",
        "server = app.server\n",
        "\n",
        "scaler=MinMaxScaler(feature_range=(0,1))\n",
        "\n",
        "df_nse = pd.read_csv(\"NSE-Tata-Global-Beverages-Limited.csv\")\n",
        "\n",
        "df_nse[\"Date\"]=pd.to_datetime(df_nse.Date,format=\"%Y-%m-%d\")\n",
        "df_nse.index=df_nse['Date']\n",
        "\n",
        "\n",
        "data=df_nse.sort_index(ascending=True,axis=0)\n",
        "new_data=pd.DataFrame(index=range(0,len(df_nse)),columns=['Date','Close'])\n",
        "\n",
        "for i in range(0,len(data)):\n",
        "    new_data.loc[i,\"Date\"]=data['Date'].iloc[i]\n",
        "    new_data.loc[i,\"Close\"]=data[\"Close\"].iloc[i]\n",
        "\n",
        "new_data.index=new_data.Date\n",
        "new_data.drop(\"Date\",axis=1,inplace=True)\n",
        "\n",
        "\n",
        "dataset=new_data.values\n",
        "\n",
        "train=dataset[0:987,:]\n",
        "valid=dataset[987:,:]\n",
        "\n",
        "scaler=MinMaxScaler(feature_range=(0,1))\n",
        "scaled_data=scaler.fit_transform(dataset)\n",
        "\n",
        "x_train,y_train=[],[]\n",
        "\n",
        "for i in range(60,len(train)):\n",
        "    x_train.append(scaled_data[i-60:i,0])\n",
        "    y_train.append(scaled_data[i,0])\n",
        "\n",
        "x_train,y_train=np.array(x_train),np.array(y_train)\n",
        "\n",
        "x_train=np.reshape(x_train,(x_train.shape[0],x_train.shape[1],1))\n",
        "\n",
        "model=load_model(\"saved_model.keras\")\n",
        "\n",
        "inputs=new_data[len(new_data)-len(valid)-60:].values\n",
        "inputs=inputs.reshape(-1,1)\n",
        "inputs=scaler.transform(inputs)\n",
        "\n",
        "X_test=[]\n",
        "for i in range(60,inputs.shape[0]):\n",
        "    X_test.append(inputs[i-60:i,0])\n",
        "X_test=np.array(X_test)\n",
        "\n",
        "X_test=np.reshape(X_test,(X_test.shape[0],X_test.shape[1],1))\n",
        "closing_price=model.predict(X_test)\n",
        "closing_price=scaler.inverse_transform(closing_price)\n",
        "\n",
        "train=new_data[:987]\n",
        "valid=new_data[987:].copy()\n",
        "valid.loc[:,'Predictions']=closing_price\n",
        "\n",
        "\n",
        "\n",
        "df= pd.read_csv(\"./stock_data.csv\")\n",
        "\n",
        "app.layout = html.Div([\n",
        "\n",
        "    html.H1(\"Stock Price Analysis Dashboard\", style={\"textAlign\": \"center\"}),\n",
        "\n",
        "    dcc.Tabs(id=\"tabs\", children=[\n",
        "\n",
        "        dcc.Tab(label='NSE-TATAGLOBAL Stock Data',children=[\n",
        "            html.Div([\n",
        "                html.H2(\"Actual closing price\",style={\"textAlign\": \"center\"}),\n",
        "                dcc.Graph(\n",
        "                    id=\"Actual Data\",\n",
        "                    figure={\n",
        "                        \"data\":[\n",
        "                            go.Scatter(\n",
        "                                x=train.index,\n",
        "                                y=valid[\"Close\"],\n",
        "                                mode='markers'\n",
        "                            )\n",
        "\n",
        "                        ],\n",
        "                        \"layout\":go.Layout(\n",
        "                            title='scatter plot',\n",
        "                            xaxis={'title':'Date'},\n",
        "                            yaxis={'title':'Closing Rate'}\n",
        "                        )\n",
        "                    }\n",
        "\n",
        "                ),\n",
        "                html.H2(\"LSTM Predicted closing price\",style={\"textAlign\": \"center\"}),\n",
        "                dcc.Graph(\n",
        "                    id=\"Predicted Data\",\n",
        "                    figure={\n",
        "                        \"data\":[\n",
        "                            go.Scatter(\n",
        "                                x=valid.index,\n",
        "                                y=valid[\"Predictions\"],\n",
        "                                mode='markers'\n",
        "                            )\n",
        "\n",
        "                        ],\n",
        "                        \"layout\":go.Layout(\n",
        "                            title='scatter plot',\n",
        "                            xaxis={'title':'Date'},\n",
        "                            yaxis={'title':'Closing Rate'}\n",
        "                        )\n",
        "                    }\n",
        "\n",
        "                )\n",
        "            ])\n",
        "\n",
        "\n",
        "        ]),\n",
        "        dcc.Tab(label='Facebook Stock Data', children=[\n",
        "            html.Div([\n",
        "                html.H1(\"Facebook Stocks High vs Lows\",\n",
        "                        style={'textAlign': 'center'}),\n",
        "\n",
        "                dcc.Dropdown(id='my-dropdown',\n",
        "                             options=[{'label': 'Tesla', 'value': 'TSLA'},\n",
        "                                      {'label': 'Apple','value': 'AAPL'},\n",
        "                                      {'label': 'Facebook', 'value': 'FB'},\n",
        "                                      {'label': 'Microsoft','value': 'MSFT'}],\n",
        "                             multi=True,value=['FB'],\n",
        "                             style={\"display\": \"block\", \"margin-left\": \"auto\",\n",
        "                                    \"margin-right\": \"auto\", \"width\": \"60%\"}),\n",
        "                dcc.Graph(id='highlow'),\n",
        "                html.H1(\"Facebook Market Volume\", style={'textAlign': 'center'}),\n",
        "\n",
        "                dcc.Dropdown(id='my-dropdown2',\n",
        "                             options=[{'label': 'Tesla', 'value': 'TSLA'},\n",
        "                                      {'label': 'Apple','value': 'AAPL'},\n",
        "                                      {'label': 'Facebook', 'value': 'FB'},\n",
        "                                      {'label': 'Microsoft','value': 'MSFT'}],\n",
        "                             multi=True,value=['FB'],\n",
        "                             style={\"display\": \"block\", \"margin-left\": \"auto\",\n",
        "                                    \"margin-right\": \"auto\", \"width\": \"60%\"}),\n",
        "                dcc.Graph(id='volume')\n",
        "            ], className=\"container\"),\n",
        "        ])\n",
        "\n",
        "\n",
        "    ])\n",
        "])\n",
        "\n",
        "\n",
        "@app.callback(Output('highlow', 'figure'),\n",
        "              [Input('my-dropdown', 'value')])\n",
        "def update_graph(selected_dropdown):\n",
        "    dropdown = {\"TSLA\": \"Tesla\",\"AAPL\": \"Apple\",\"FB\": \"Facebook\",\"MSFT\": \"Microsoft\",}\n",
        "    trace1 = []\n",
        "    trace2 = []\n",
        "    for stock in selected_dropdown:\n",
        "        trace1.append(\n",
        "          go.Scatter(x=df[df[\"Stock\"] == stock][\"Date\"],\n",
        "                     y=df[df[\"Stock\"] == stock][\"High\"],\n",
        "                     mode='lines', opacity=0.7,\n",
        "                     name=f'High {dropdown[stock]}',textposition='bottom center'))\n",
        "        trace2.append(\n",
        "          go.Scatter(x=df[df[\"Stock\"] == stock][\"Date\"],\n",
        "                     y=df[df[\"Stock\"] == stock][\"Low\"],\n",
        "                     mode='lines', opacity=0.6,\n",
        "                     name=f'Low {dropdown[stock]}',textposition='bottom center'))\n",
        "    traces = [trace1, trace2]\n",
        "    data = [val for sublist in traces for val in sublist]\n",
        "    figure = {'data': data,\n",
        "              'layout': go.Layout(colorway=[\"#5E0DAC\", '#FF4F00', '#375CB1',\n",
        "                                            '#FF7400', '#FFF400', '#FF0056'],\n",
        "            height=600,\n",
        "            title=f\"High and Low Prices for {', '.join(str(dropdown[i]) for i in selected_dropdown)} Over Time\",\n",
        "            xaxis={\"title\":\"Date\",\n",
        "                   'rangeselector': {'buttons': list([{'count': 1, 'label': '1M',\n",
        "                                                       'step': 'month',\n",
        "                                                       'stepmode': 'backward'},\n",
        "                                                      {'count': 6, 'label': '6M',\n",
        "                                                       'step': 'month',\n",
        "                                                       'stepmode': 'backward'},\n",
        "                                                      {'step': 'all'}])},\n",
        "                   'rangeslider': {'visible': True}, 'type': 'date'},\n",
        "             yaxis={\"title\":\"Price (USD)\"})}\n",
        "    return figure\n",
        "\n",
        "\n",
        "@app.callback(Output('volume', 'figure'),\n",
        "              [Input('my-dropdown2', 'value')])\n",
        "def update_graph(selected_dropdown_value):\n",
        "    dropdown = {\"TSLA\": \"Tesla\",\"AAPL\": \"Apple\",\"FB\": \"Facebook\",\"MSFT\": \"Microsoft\",}\n",
        "    trace1 = []\n",
        "    for stock in selected_dropdown_value:\n",
        "        trace1.append(\n",
        "          go.Scatter(x=df[df[\"Stock\"] == stock][\"Date\"],\n",
        "                     y=df[df[\"Stock\"] == stock][\"Volume\"],\n",
        "                     mode='lines', opacity=0.7,\n",
        "                     name=f'Volume {dropdown[stock]}', textposition='bottom center'))\n",
        "    traces = [trace1]\n",
        "    data = [val for sublist in traces for val in sublist]\n",
        "    figure = {'data': data,\n",
        "              'layout': go.Layout(colorway=[\"#5E0DAC\", '#FF4F00', '#375CB1',\n",
        "                                            '#FF7400', '#FFF400', '#FF0056'],\n",
        "            height=600,\n",
        "            title=f\"Market Volume for {', '.join(str(dropdown[i]) for i in selected_dropdown_value)} Over Time\",\n",
        "            xaxis={\"title\":\"Date\",\n",
        "                   'rangeselector': {'buttons': list([{'count': 1, 'label': '1M',\n",
        "                                                       'step': 'month',\n",
        "                                                       'stepmode': 'backward'},\n",
        "                                                      {'count': 6, 'label': '6M',\n",
        "                                                       'step': 'month',\n",
        "                                                       'stepmode': 'backward'},\n",
        "                                                      {'step': 'all'}])},\n",
        "                   'rangeslider': {'visible': True}, 'type': 'date'},\n",
        "             yaxis={\"title\":\"Transactions Volume\"})}\n",
        "    return figure\n",
        "\n",
        "\n",
        "if __name__=='__main__':\n",
        "    app.run(debug=True)"
      ]
    },
    {
      "cell_type": "markdown",
      "source": [
        "**3. Result and Conclusion**\n",
        "\n",
        "<u>*Result:*</u>\n",
        "\n",
        "The model was successfully trained on the stock price dataset.\n",
        "  \n",
        "The Mean Squared Error value obtained was reasonably small, which means the model made good predictions.\n",
        "  \n",
        "The graph plotted between Actual Prices and Predicted Prices showed that most of the predicted values were close to the actual values."
      ],
      "metadata": {
        "id": "SlAF3VaAm8m9"
      }
    },
    {
      "cell_type": "markdown",
      "source": [
        "<u>*Conclusion:*</u>\n",
        "\n",
        "In this project, I have learned how to implement a real-world Machine Learning project from scratch.\n",
        "  \n",
        "I performed all the important steps like data preprocessing, feature selection, model training, prediction, evaluation and visualization.\n",
        "  \n",
        "Linear Regression worked well for predicting stock prices based on the past data.\n",
        "  \n",
        "This project helped me understand how Machine Learning models work practically, and how important it is to prepare the dataset properly.\n",
        "  \n"
      ],
      "metadata": {
        "id": "m0sQu94pnJ9c"
      }
    },
    {
      "cell_type": "markdown",
      "source": [
        "**4. Acknowledgement**\n",
        "\n",
        "I would like to express my sincere gratitude to our Machine Learning faculty for giving us the opportunity to work on this project. This project helped me to practically implement the concepts of Machine Learning that I have learnt in class.\n",
        "  \n",
        "I would also like to thank my friends and classmates for their constant support and motivation throughout the project."
      ],
      "metadata": {
        "id": "2qS2bBLpnmfs"
      }
    },
    {
      "cell_type": "markdown",
      "source": [
        "**5. References**\n",
        "\n",
        "1. https://data-flair.training/blogs/stock-price-prediction-machine-learning-project-in-python/\n",
        "\n",
        "2. https://www.youtube.com/watch?v=1O_BenficgE\n",
        "\n",
        "\n",
        "\n",
        "\n"
      ],
      "metadata": {
        "id": "JjBf0gvonx5l"
      }
    }
  ],
  "metadata": {
    "colab": {
      "provenance": [],
      "gpuType": "T4",
      "authorship_tag": "ABX9TyNkfBgSW2gI95capGUOsHSf",
      "include_colab_link": true
    },
    "kernelspec": {
      "display_name": "Python 3",
      "name": "python3"
    },
    "language_info": {
      "name": "python"
    },
    "accelerator": "GPU"
  },
  "nbformat": 4,
  "nbformat_minor": 0
}